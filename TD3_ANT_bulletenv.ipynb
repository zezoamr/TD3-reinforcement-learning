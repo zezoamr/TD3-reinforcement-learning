{
  "cells": [
    {
      "cell_type": "markdown",
      "metadata": {
        "id": "WXu1r8qvSzWf"
      },
      "source": [
        "# Twin-Delayed DDPG"
      ]
    },
    {
      "cell_type": "markdown",
      "metadata": {
        "id": "YRzQUhuUTc0J"
      },
      "source": [
        "## Installing the packages"
      ]
    },
    {
      "cell_type": "code",
      "execution_count": 1,
      "metadata": {
        "colab": {
          "base_uri": "https://localhost:8080/"
        },
        "id": "HAHMB0Ze8fU0",
        "outputId": "e77324bc-00fe-41b1-bf86-229baccceeff"
      },
      "outputs": [
        {
          "name": "stdout",
          "output_type": "stream",
          "text": [
            "Looking in indexes: https://pypi.org/simple, https://us-python.pkg.dev/colab-wheels/public/simple/\n",
            "Collecting pybullet==2.5.0\n",
            "  Downloading pybullet-2.5.0.tar.gz (47.4 MB)\n",
            "\u001b[2K     \u001b[90m━━━━━━━━━━━━━━━━━━━━━━━━━━━━━━━━━━━━━━━━\u001b[0m \u001b[32m47.4/47.4 MB\u001b[0m \u001b[31m13.5 MB/s\u001b[0m eta \u001b[36m0:00:00\u001b[0m\n",
            "\u001b[?25h  Preparing metadata (setup.py) ... \u001b[?25l\u001b[?25hdone\n",
            "Building wheels for collected packages: pybullet\n",
            "  Building wheel for pybullet (setup.py) ... \u001b[?25l\u001b[?25hdone\n",
            "  Created wheel for pybullet: filename=pybullet-2.5.0-cp38-cp38-linux_x86_64.whl size=65238954 sha256=efc71dc58084cc874274f5765319165ff03fe493b273336a00dbab54609bc88a\n",
            "  Stored in directory: /root/.cache/pip/wheels/ad/9c/6f/a0e7cef8650c9437167b9cee2290dd9bcf61b47253e8f1d54d\n",
            "Successfully built pybullet\n",
            "Installing collected packages: pybullet\n",
            "Successfully installed pybullet-2.5.0\n",
            "Found existing installation: gym 0.25.2\n",
            "Uninstalling gym-0.25.2:\n",
            "  Successfully uninstalled gym-0.25.2\n",
            "Looking in indexes: https://pypi.org/simple, https://us-python.pkg.dev/colab-wheels/public/simple/\n",
            "Collecting gym==0.22\n",
            "  Downloading gym-0.22.0.tar.gz (631 kB)\n",
            "\u001b[2K     \u001b[90m━━━━━━━━━━━━━━━━━━━━━━━━━━━━━━━━━━━━━━\u001b[0m \u001b[32m631.1/631.1 KB\u001b[0m \u001b[31m32.3 MB/s\u001b[0m eta \u001b[36m0:00:00\u001b[0m\n",
            "\u001b[?25h  Installing build dependencies ... \u001b[?25l\u001b[?25hdone\n",
            "  Getting requirements to build wheel ... \u001b[?25l\u001b[?25hdone\n",
            "  Preparing metadata (pyproject.toml) ... \u001b[?25l\u001b[?25hdone\n",
            "Requirement already satisfied: gym-notices>=0.0.4 in /usr/local/lib/python3.8/dist-packages (from gym==0.22) (0.0.8)\n",
            "Requirement already satisfied: cloudpickle>=1.2.0 in /usr/local/lib/python3.8/dist-packages (from gym==0.22) (2.2.1)\n",
            "Requirement already satisfied: importlib-metadata>=4.10.0 in /usr/local/lib/python3.8/dist-packages (from gym==0.22) (6.0.0)\n",
            "Requirement already satisfied: numpy>=1.18.0 in /usr/local/lib/python3.8/dist-packages (from gym==0.22) (1.21.6)\n",
            "Requirement already satisfied: zipp>=0.5 in /usr/local/lib/python3.8/dist-packages (from importlib-metadata>=4.10.0->gym==0.22) (3.12.1)\n",
            "Building wheels for collected packages: gym\n",
            "  Building wheel for gym (pyproject.toml) ... \u001b[?25l\u001b[?25hdone\n",
            "  Created wheel for gym: filename=gym-0.22.0-py3-none-any.whl size=708396 sha256=cca8d97c92e67b42746fbf0d26df0179e142bb541bf0d6e23e271c06b7d05644\n",
            "  Stored in directory: /root/.cache/pip/wheels/4d/6e/7d/0e050cb65b427dd0db5c5ab2c9a1f1ffa3d58db2f4db516268\n",
            "Successfully built gym\n",
            "Installing collected packages: gym\n",
            "Successfully installed gym-0.22.0\n"
          ]
        }
      ],
      "source": [
        "!pip install pybullet==2.5.0\n",
        "!pip uninstall gym -y\n",
        "!pip install gym==0.22 "
      ]
    },
    {
      "cell_type": "markdown",
      "metadata": {
        "id": "Xjm2onHdT-Av"
      },
      "source": [
        "## Importing the libraries"
      ]
    },
    {
      "cell_type": "code",
      "execution_count": 2,
      "metadata": {
        "colab": {
          "base_uri": "https://localhost:8080/"
        },
        "id": "Ikr2p0Js8iB4",
        "outputId": "2428f239-04e2-48b6-d09d-8e15e34c48b1"
      },
      "outputs": [
        {
          "name": "stderr",
          "output_type": "stream",
          "text": [
            "\n"
          ]
        }
      ],
      "source": [
        "import os\n",
        "import time\n",
        "import random\n",
        "import numpy as np\n",
        "import matplotlib.pyplot as plt\n",
        "import pybullet_envs\n",
        "import gym\n",
        "import torch\n",
        "import torch.nn as nn\n",
        "from torch.nn.modules import flatten\n",
        "import torch.nn.functional as F\n",
        "from gym import wrappers\n",
        "#from torch.autograd import Variable\n",
        "from collections import deque\n",
        "import copy"
      ]
    },
    {
      "cell_type": "code",
      "execution_count": 3,
      "metadata": {
        "id": "u5rW0IDB8nTO"
      },
      "outputs": [],
      "source": [
        "class ReplayBuffer(object):\n",
        "\n",
        "  def __init__(self, max_size=1e6):\n",
        "    self.storage = []\n",
        "    self.max_size = max_size\n",
        "    self.ptr = 0\n",
        "\n",
        "  def add(self, transition):\n",
        "    if len(self.storage) == self.max_size:\n",
        "      self.storage[int(self.ptr)] = transition\n",
        "      self.ptr = (self.ptr + 1) % self.max_size\n",
        "    else:\n",
        "      self.storage.append(transition)\n",
        "\n",
        "  def sample(self, batch_size):\n",
        "    ind = np.random.randint(0, len(self.storage), size=batch_size)\n",
        "    batch_states, batch_next_states, batch_actions, batch_rewards, batch_dones = [], [], [], [], []\n",
        "    for i in ind: \n",
        "      state, next_state, action, reward, done = self.storage[i]\n",
        "      batch_states.append(np.array(state, copy=False))\n",
        "      batch_next_states.append(np.array(next_state, copy=False))\n",
        "      batch_actions.append(np.array(action, copy=False))\n",
        "      batch_rewards.append(np.array(reward, copy=False))\n",
        "      batch_dones.append(np.array(done, copy=False))\n",
        "    return np.array(batch_states), np.array(batch_next_states), np.array(batch_actions), np.array(batch_rewards).reshape(-1, 1), np.array(batch_dones).reshape(-1, 1)"
      ]
    },
    {
      "cell_type": "code",
      "execution_count": 4,
      "metadata": {
        "id": "4CeRW4D79HL0"
      },
      "outputs": [],
      "source": [
        "class Actor(nn.Module):\n",
        "\n",
        "  def __init__(self, state_dim, action_dim, max_action):\n",
        "    super(Actor, self).__init__()\n",
        "    self.max_action = max_action\n",
        "    self.fc1 = nn.Linear(state_dim , 400)\n",
        "    self.fc2 = nn.Linear(400, 300)\n",
        "    self.fc3 = nn.Linear(300, action_dim)\n",
        "\n",
        "  def forward(self, x):\n",
        "    x = F.relu(self.fc1(x))\n",
        "    x = F.relu(self.fc2(x))\n",
        "    x = self.max_action * torch.tanh(self.fc3(x))\n",
        "    return x\n"
      ]
    },
    {
      "cell_type": "code",
      "execution_count": 5,
      "metadata": {
        "id": "OCee7gwR9Jrs"
      },
      "outputs": [],
      "source": [
        "class Critic(nn.Module):\n",
        "\n",
        "  def __init__(self, state, action_space):\n",
        "    super(Critic, self).__init__()\n",
        "    \n",
        "    #first net\n",
        "    self.first_fc1 = nn.Linear(state + action_space, 400)\n",
        "    self.first_fc2 = nn.Linear(400, 300)\n",
        "    self.first_fc3 = nn.Linear(300, 1)\n",
        "    #second net\n",
        "    self.sec_fc1 = nn.Linear(state + action_space, 400)\n",
        "    self.sec_fc2 = nn.Linear(400, 300)\n",
        "    self.sec_fc3 = nn.Linear(300, 1)\n",
        "\n",
        "  def forward(self, state, action):\n",
        "    input = torch.cat([state, action], 1) #vertical concat\n",
        "\n",
        "    x1 = F.relu(self.first_fc1(input))\n",
        "    x1 = F.relu(self.first_fc2(x1))\n",
        "    x1 = self.first_fc3(x1)\n",
        "    x2 = F.relu(self.sec_fc1(input))\n",
        "    x2 = F.relu(self.sec_fc2(x2))\n",
        "    x2 = self.sec_fc3(x2)\n",
        "\n",
        "    return x1, x2\n",
        "\n",
        "  def Q1(self, state, action):\n",
        "    input = torch.cat([state, action], 1) \n",
        "    x1 = F.relu(self.first_fc1(input))\n",
        "    x1 = F.relu(self.first_fc2(x1))\n",
        "    x1 = self.first_fc3(x1)\n",
        "    return x1    "
      ]
    },
    {
      "cell_type": "code",
      "execution_count": 6,
      "metadata": {
        "id": "l8G-yr4dr8KQ"
      },
      "outputs": [],
      "source": [
        "# Selecting the device (CPU or GPU)\n",
        "device = torch.device(\"cuda\" if torch.cuda.is_available() else \"cpu\")\n",
        "\n",
        "# Building the whole Training Process into a class\n",
        "\n",
        "class TD3(object):\n",
        "  \n",
        "  def __init__(self, state_dim, action_dim, max_action):\n",
        "    self.actor_model = Actor(state_dim, action_dim, max_action).to(device)\n",
        "    self.critic_model = Critic(state_dim, action_dim).to(device)\n",
        "    ###\n",
        "    self.actor_target = copy.deepcopy(self.actor_model)\n",
        "    self.critic_target = copy.deepcopy(self.critic_model)\n",
        "    ###\n",
        "    self.critic_optimizer = torch.optim.Adam(self.critic_model.parameters(), lr=3e-4)\n",
        "    self.actor_optimizer = torch.optim.Adam(self.actor_model.parameters(),  lr=3e-4)\n",
        "    ###\n",
        "    self.max_action = max_action\n",
        "    \n",
        "  def select_action(self, state):\n",
        "    state = torch.Tensor(state.reshape(1, -1)).to(device)\n",
        "    return self.actor_model(state).cpu().data.numpy().flatten()\n",
        "\n",
        "  def train(self, replay_buffer : ReplayBuffer(), iterations, batch_size=100, discount=0.99, tau=0.005, policy_noise=0.2, noise_clip=0.5,\n",
        "            policy_update_freq=2):\n",
        "    \n",
        "    for it in range(iterations):\n",
        "        #if len(self.replay_buffer.storage) < 10000:\n",
        "        #  next_action = self.select_action(state)\n",
        " \n",
        "        batch_states, batch_next_states, batch_actions, batch_rewards, batch_dones = replay_buffer.sample(batch_size)\n",
        "        state = torch.Tensor(batch_states).to(device)\n",
        "        next_state = torch.Tensor(batch_next_states).to(device)\n",
        "        action = torch.Tensor(batch_actions).to(device)\n",
        "        reward = torch.Tensor(batch_rewards).to(device)\n",
        "        done = torch.Tensor(batch_dones).to(device)\n",
        "        \n",
        "        next_action = self.actor_target(next_state)\n",
        "        noise = torch.Tensor(batch_actions).data.normal_(0, policy_noise).to(device)\n",
        "        noise.clamp(-noise_clip, noise_clip)\n",
        "        next_action = (next_action + noise).clamp(-self.max_action, self.max_action)\n",
        "\n",
        "        target_Q1, target_Q2 = self.critic_target(next_state, next_action)\n",
        "        #target_Q = torch.where( done == False, torch.min(target_Q1, target_Q2), 0) \n",
        "        #target = reward + discount * target_Q\n",
        "        target_Q = torch.min(target_Q1, target_Q2)\n",
        "        target = reward + ( (1 - done) * discount * target_Q ).detach()\n",
        "\n",
        "        curr_Q1, curr_Q2 = self.critic_model(state, action)\n",
        "\n",
        "        critic_loss = F.mse_loss(curr_Q1, target_Q) + F.mse_loss(curr_Q2, target_Q)\n",
        "\n",
        "        self.critic_optimizer.zero_grad()\n",
        "        critic_loss.backward()\n",
        "        self.critic_optimizer.step()\n",
        "\n",
        "        if it % policy_update_freq == 0:\n",
        "          actor_loss = -self.critic_model.Q1(state, self.actor_model(state)).mean() # -ve cause stochastic *ascent*\n",
        "\n",
        "          self.actor_optimizer.zero_grad()\n",
        "          actor_loss.backward()\n",
        "          self.actor_optimizer.step()\n",
        "\n",
        "          for model_param, target_param in zip(self.actor_model.parameters(), self.actor_target.parameters()):\n",
        "              target_param.data.copy_( model_param.data * tau + (1 - tau) * target_param.data)\n",
        "          for model_param, target_param in zip(self.critic_model.parameters(), self.critic_target.parameters()):\n",
        "              target_param.data.copy_( model_param.data * tau + (1 - tau) * target_param.data)\n",
        "    \n",
        "  def save(self, filename):\n",
        "    torch.save(self.critic_model.state_dict(), filename + \"_critic\")\n",
        "    torch.save(self.critic_optimizer.state_dict(), filename + \"_critic_optimizer\")\n",
        "    torch.save(self.actor_model.state_dict(), filename + \"_actor\")\n",
        "    torch.save(self.actor_optimizer.state_dict(), filename + \"_actor_optimizer\")\n",
        "\n",
        "\n",
        "  def load(self, filename):\n",
        "    self.critic_model.load_state_dict(torch.load(filename + \"_critic\"))\n",
        "    self.critic_optimizer.load_state_dict(torch.load(filename + \"_critic_optimizer\"))\n",
        "    self.critic_target = copy.deepcopy(self.critic)\n",
        "    self.actor_model.load_state_dict(torch.load(filename + \"_actor\"))\n",
        "    self.actor_optimizer.load_state_dict(torch.load(filename + \"_actor_optimizer\"))\n",
        "    self.actor_target = copy.deepcopy(self.actor)\n",
        "        "
      ]
    },
    {
      "cell_type": "markdown",
      "metadata": {
        "id": "ka-ZRtQvjBex"
      },
      "source": [
        "## We make a function that evaluates the policy by calculating its average reward over 10 episodes"
      ]
    },
    {
      "cell_type": "code",
      "execution_count": 7,
      "metadata": {
        "id": "qabqiYdp9wDM"
      },
      "outputs": [],
      "source": [
        "def evaluate_policy(policy, eval_episodes=10):\n",
        "  avg_reward = 0.\n",
        "  for _ in range(eval_episodes):\n",
        "    obs = env.reset()\n",
        "    done = False\n",
        "    while not done:\n",
        "      action = policy.select_action(np.array(obs))\n",
        "      obs, reward, done, _ = env.step(action)\n",
        "      avg_reward += reward\n",
        "  avg_reward /= eval_episodes\n",
        "  print (\"---------------------------------------\")\n",
        "  print (\"Average Reward over the Evaluation Step: %f\" % (avg_reward))\n",
        "  print (\"---------------------------------------\")\n",
        "  return avg_reward"
      ]
    },
    {
      "cell_type": "markdown",
      "metadata": {
        "id": "gGuKmH_ijf7U"
      },
      "source": [
        "## We set the parameters"
      ]
    },
    {
      "cell_type": "code",
      "execution_count": 9,
      "metadata": {
        "id": "z0gQbO3Xb3tz"
      },
      "outputs": [],
      "source": [
        "env_name = \"AntBulletEnv-v0\" # Name of a environment (set it to any Continous environment you want)\n",
        "seed = 0 # Random seed number\n",
        "start_timesteps = 1e4 # Number of iterations/timesteps before which the model randomly chooses an action, and after which it starts to use the policy network\n",
        "eval_freq = 5e3 # How often the evaluation step is performed (after how many timesteps)\n",
        "max_timesteps = 5e5 # Total number of iterations/timesteps\n",
        "save_models = True # Boolean checker whether or not to save the pre-trained model\n",
        "expl_noise = 0.1 # Exploration noise - STD value of exploration Gaussian noise\n",
        "batch_size = 100 # Size of the batch\n",
        "discount = 0.99 # Discount factor gamma, used in the calculation of the total discounted reward\n",
        "tau = 0.05 # Target network update rate\n",
        "policy_noise = 0.2 # STD of Gaussian noise added to the actions for the exploration purposes\n",
        "noise_clip = 0.5 # Maximum value of the Gaussian noise added to the actions (policy)\n",
        "policy_freq = 2 # Number of iterations to wait before the policy network (Actor model) is updated"
      ]
    },
    {
      "cell_type": "markdown",
      "metadata": {
        "id": "Hjwf2HCol3XP"
      },
      "source": [
        "## We create a file name for the two saved models: the Actor and Critic models"
      ]
    },
    {
      "cell_type": "code",
      "execution_count": 10,
      "metadata": {
        "colab": {
          "base_uri": "https://localhost:8080/"
        },
        "id": "1fyH8N5z-o3o",
        "outputId": "b19fd1aa-6a10-4548-a5a0-50e94ea466d2"
      },
      "outputs": [
        {
          "name": "stdout",
          "output_type": "stream",
          "text": [
            "---------------------------------------\n",
            "Settings: TD3_AntBulletEnv-v0_0\n",
            "---------------------------------------\n"
          ]
        }
      ],
      "source": [
        "file_name = \"%s_%s_%s\" % (\"TD3\", env_name, str(seed))\n",
        "print (\"---------------------------------------\")\n",
        "print (\"Settings: %s\" % (file_name))\n",
        "print (\"---------------------------------------\")"
      ]
    },
    {
      "cell_type": "markdown",
      "metadata": {
        "id": "kop-C96Aml8O"
      },
      "source": [
        "## We create a folder inside which will be saved the trained models"
      ]
    },
    {
      "cell_type": "code",
      "execution_count": 11,
      "metadata": {
        "id": "Src07lvY-zXb"
      },
      "outputs": [],
      "source": [
        "if not os.path.exists(\"./results\"):\n",
        "  os.makedirs(\"./results\")\n",
        "if save_models and not os.path.exists(\"./pytorch_models\"):\n",
        "  os.makedirs(\"./pytorch_models\")"
      ]
    },
    {
      "cell_type": "markdown",
      "metadata": {
        "id": "qEAzOd47mv1Z"
      },
      "source": [
        "## We create the PyBullet environment"
      ]
    },
    {
      "cell_type": "code",
      "execution_count": 12,
      "metadata": {
        "colab": {
          "base_uri": "https://localhost:8080/"
        },
        "id": "CyQXJUIs-6BV",
        "outputId": "2b73aab4-3fa3-4a76-8447-d67873ba3108"
      },
      "outputs": [
        {
          "name": "stderr",
          "output_type": "stream",
          "text": [
            "/usr/local/lib/python3.8/dist-packages/gym/spaces/box.py:78: UserWarning: \u001b[33mWARN: Box bound precision lowered by casting to float32\u001b[0m\n",
            "  logger.warn(f\"Box bound precision lowered by casting to {self.dtype}\")\n"
          ]
        }
      ],
      "source": [
        "env = gym.make(env_name)"
      ]
    },
    {
      "cell_type": "markdown",
      "metadata": {
        "id": "5YdPG4HXnNsh"
      },
      "source": [
        "## We set seeds and we get the necessary information on the states and actions in the chosen environment"
      ]
    },
    {
      "cell_type": "code",
      "execution_count": 13,
      "metadata": {
        "id": "Z3RufYec_ADj"
      },
      "outputs": [],
      "source": [
        "env.seed(seed)\n",
        "torch.manual_seed(seed)\n",
        "np.random.seed(seed)\n",
        "state_dim = env.observation_space.shape[0]\n",
        "action_dim = env.action_space.shape[0]\n",
        "max_action = float(env.action_space.high[0])"
      ]
    },
    {
      "cell_type": "markdown",
      "metadata": {
        "id": "HWEgDAQxnbem"
      },
      "source": [
        "## We create the policy network (the Actor model)"
      ]
    },
    {
      "cell_type": "code",
      "execution_count": 14,
      "metadata": {
        "id": "wTVvG7F8_EWg"
      },
      "outputs": [],
      "source": [
        "policy = TD3(state_dim, action_dim, max_action)"
      ]
    },
    {
      "cell_type": "markdown",
      "metadata": {
        "id": "ZI60VN2Unklh"
      },
      "source": [
        "## We create the Experience Replay memory"
      ]
    },
    {
      "cell_type": "code",
      "execution_count": 15,
      "metadata": {
        "id": "sd-ZsdXR_LgV"
      },
      "outputs": [],
      "source": [
        "replay_buffer = ReplayBuffer()"
      ]
    },
    {
      "cell_type": "markdown",
      "metadata": {
        "id": "QYOpCyiDnw7s"
      },
      "source": [
        "## We define a list where all the evaluation results over 10 episodes are stored"
      ]
    },
    {
      "cell_type": "code",
      "execution_count": null,
      "metadata": {
        "id": "dhC_5XJ__Orp"
      },
      "outputs": [],
      "source": [
        "evaluations = [evaluate_policy(policy)]"
      ]
    },
    {
      "cell_type": "markdown",
      "metadata": {
        "id": "xm-4b3p6rglE"
      },
      "source": [
        "## We create a new folder directory in which the final results (videos of the agent) will be populated"
      ]
    },
    {
      "cell_type": "code",
      "execution_count": 17,
      "metadata": {
        "id": "MTL9uMd0ru03"
      },
      "outputs": [],
      "source": [
        "def mkdir(base, name):\n",
        "    path = os.path.join(base, name)\n",
        "    if not os.path.exists(path):\n",
        "        os.makedirs(path)\n",
        "    return path\n",
        "work_dir = mkdir('exp', 'brs')\n",
        "monitor_dir = mkdir(work_dir, 'monitor')\n",
        "max_episode_steps = env._max_episode_steps\n",
        "save_env_vid = False\n",
        "if save_env_vid:\n",
        "  env = wrappers.Monitor(env, monitor_dir, force = True)\n",
        "  env.reset()"
      ]
    },
    {
      "cell_type": "markdown",
      "metadata": {
        "id": "31n5eb03p-Fm"
      },
      "source": [
        "## We initialize the variables"
      ]
    },
    {
      "cell_type": "code",
      "execution_count": 18,
      "metadata": {
        "id": "1vN5EvxK_QhT"
      },
      "outputs": [],
      "source": [
        "total_timesteps = 0\n",
        "timesteps_since_eval = 0\n",
        "episode_num = 0\n",
        "done = True\n",
        "t0 = time.time()"
      ]
    },
    {
      "cell_type": "markdown",
      "metadata": {
        "id": "q9gsjvtPqLgT"
      },
      "source": [
        "## Training"
      ]
    },
    {
      "cell_type": "code",
      "execution_count": null,
      "metadata": {
        "id": "y_ouY4NH_Y0I"
      },
      "outputs": [],
      "source": [
        "# We start the main loop over 500,000 timesteps\n",
        "while total_timesteps < max_timesteps:\n",
        "  \n",
        "  # If the episode is done\n",
        "  if done:\n",
        "\n",
        "    # If we are not at the very beginning, we start the training process of the model\n",
        "    if total_timesteps != 0:\n",
        "      print(\"Total Timesteps: {} Episode Num: {} Reward: {}\".format(total_timesteps, episode_num, episode_reward))\n",
        "      policy.train(replay_buffer, episode_timesteps, batch_size, discount, tau, policy_noise, noise_clip, policy_freq)\n",
        "\n",
        "    # We evaluate the episode and we save the policy\n",
        "    if timesteps_since_eval >= eval_freq:\n",
        "      timesteps_since_eval %= eval_freq\n",
        "      evaluations.append(evaluate_policy(policy))\n",
        "      policy.save(file_name, directory=\"./pytorch_models\")\n",
        "      np.save(\"./results/%s\" % (file_name), evaluations)\n",
        "    \n",
        "    # When the training step is done, we reset the state of the environment\n",
        "    obs = env.reset()\n",
        "    \n",
        "    # Set the Done to False\n",
        "    done = False\n",
        "    \n",
        "    # Set rewards and episode timesteps to zero\n",
        "    episode_reward = 0\n",
        "    episode_timesteps = 0\n",
        "    episode_num += 1\n",
        "  \n",
        "  # Before 10000 timesteps, we play random actions\n",
        "  if total_timesteps < start_timesteps:\n",
        "    action = env.action_space.sample()\n",
        "  else: # After 10000 timesteps, we switch to the model\n",
        "    action = policy.select_action(np.array(obs))\n",
        "    # If the explore_noise parameter is not 0, we add noise to the action and we clip it\n",
        "    if expl_noise != 0:\n",
        "      action = (action + np.random.normal(0, expl_noise, size=env.action_space.shape[0])).clip(env.action_space.low, env.action_space.high)\n",
        "  \n",
        "  # The agent performs the action in the environment, then reaches the next state and receives the reward\n",
        "  new_obs, reward, done, _ = env.step(action)\n",
        "  \n",
        "  # We check if the episode is done\n",
        "  done_bool = 0 if episode_timesteps + 1 == env._max_episode_steps else float(done)\n",
        "  \n",
        "  # We increase the total reward\n",
        "  episode_reward += reward\n",
        "  \n",
        "  # We store the new transition into the Experience Replay memory (ReplayBuffer)\n",
        "  replay_buffer.add((obs, new_obs, action, reward, done_bool))\n",
        "\n",
        "  # We update the state, the episode timestep, the total timesteps, and the timesteps since the evaluation of the policy\n",
        "  obs = new_obs\n",
        "  episode_timesteps += 1\n",
        "  total_timesteps += 1\n",
        "  timesteps_since_eval += 1\n",
        "\n",
        "# We add the last policy evaluation to our list of evaluations and we save our model\n",
        "evaluations.append(evaluate_policy(policy))\n",
        "if save_models: policy.save(\"%s\" % (file_name), directory=\"./pytorch_models\")\n",
        "np.save(\"./results/%s\" % (file_name), evaluations)"
      ]
    },
    {
      "cell_type": "markdown",
      "metadata": {
        "id": "wi6e2-_pu05e"
      },
      "source": [
        "## Inference"
      ]
    },
    {
      "cell_type": "code",
      "execution_count": null,
      "metadata": {
        "id": "7c-cAxbzk9a6"
      },
      "outputs": [],
      "source": [
        "!pip uninstall gym -y\n",
        "!pip install gym==0.22 \n",
        "!pip install pybullet\n",
        "import gym\n",
        "from gym import wrappers\n",
        "import os\n",
        "import time\n",
        "import random\n",
        "import numpy as np\n",
        "import matplotlib.pyplot as plt\n",
        "import pybullet_envs\n",
        "import gym\n",
        "import torch\n",
        "import torch.nn as nn\n",
        "from torch.nn.modules import flatten\n",
        "import torch.nn.functional as F\n",
        "from gym import wrappers\n",
        "#from torch.autograd import Variable\n",
        "from collections import deque\n",
        "import copy\n",
        "\n",
        "def mkdir(base, name):\n",
        "    path = os.path.join(base, name)\n",
        "    if not os.path.exists(path):\n",
        "        os.makedirs(path)\n",
        "    return path\n",
        "work_dir = mkdir('exp', 'brs')"
      ]
    },
    {
      "cell_type": "code",
      "execution_count": null,
      "metadata": {
        "id": "oW4d1YAMqif1"
      },
      "outputs": [],
      "source": [
        "class ReplayBuffer(object):\n",
        "\n",
        "  def __init__(self, max_size=1e6):\n",
        "    self.storage = []\n",
        "    self.max_size = max_size\n",
        "    self.ptr = 0\n",
        "\n",
        "  def add(self, transition):\n",
        "    if len(self.storage) == self.max_size:\n",
        "      self.storage[int(self.ptr)] = transition\n",
        "      self.ptr = (self.ptr + 1) % self.max_size\n",
        "    else:\n",
        "      self.storage.append(transition)\n",
        "\n",
        "  def sample(self, batch_size):\n",
        "    ind = np.random.randint(0, len(self.storage), size=batch_size)\n",
        "    batch_states, batch_next_states, batch_actions, batch_rewards, batch_dones = [], [], [], [], []\n",
        "    for i in ind: \n",
        "      state, next_state, action, reward, done = self.storage[i]\n",
        "      batch_states.append(np.array(state, copy=False))\n",
        "      batch_next_states.append(np.array(next_state, copy=False))\n",
        "      batch_actions.append(np.array(action, copy=False))\n",
        "      batch_rewards.append(np.array(reward, copy=False))\n",
        "      batch_dones.append(np.array(done, copy=False))\n",
        "    return np.array(batch_states), np.array(batch_next_states), np.array(batch_actions), np.array(batch_rewards).reshape(-1, 1), np.array(batch_dones).reshape(-1, 1)\n",
        "\n",
        "class Actor(nn.Module):\n",
        "\n",
        "  def __init__(self, state_dim, action_dim, max_action):\n",
        "    super(Actor, self).__init__()\n",
        "    self.max_action = max_action\n",
        "    self.fc1 = nn.Linear(state_dim , 400)\n",
        "    self.fc2 = nn.Linear(400, 300)\n",
        "    self.fc3 = nn.Linear(300, action_dim)\n",
        "\n",
        "  def forward(self, x):\n",
        "    x = F.relu(self.fc1(x))\n",
        "    x = F.relu(self.fc2(x))\n",
        "    x = self.max_action * torch.tanh(self.fc3(x))\n",
        "    return x\n",
        "\n",
        "\n",
        "class Critic(nn.Module):\n",
        "\n",
        "  def __init__(self, state, action_space):\n",
        "    super(Critic, self).__init__()\n",
        "    \n",
        "    #first net\n",
        "    self.first_fc1 = nn.Linear(state + action_space, 400)\n",
        "    self.first_fc2 = nn.Linear(400, 300)\n",
        "    self.first_fc3 = nn.Linear(300, 1)\n",
        "    #second net\n",
        "    self.sec_fc1 = nn.Linear(state + action_space, 400)\n",
        "    self.sec_fc2 = nn.Linear(400, 300)\n",
        "    self.sec_fc3 = nn.Linear(300, 1)\n",
        "\n",
        "  def forward(self, state, action):\n",
        "    input = torch.cat([state, action], 1) #vertical concat\n",
        "\n",
        "    x1 = F.relu(self.first_fc1(input))\n",
        "    x1 = F.relu(self.first_fc2(x1))\n",
        "    x1 = self.first_fc3(x1)\n",
        "    x2 = F.relu(self.sec_fc1(input))\n",
        "    x2 = F.relu(self.sec_fc2(x2))\n",
        "    x2 = self.sec_fc3(x2) \n",
        "\n",
        "    return x1, x2\n",
        "\n",
        "  def Q1(self, state, action):\n",
        "    input = torch.cat([state, action], 1) \n",
        "    x1 = F.relu(self.first_fc1(input))\n",
        "    x1 = F.relu(self.first_fc2(x1))\n",
        "    x1 = self.first_fc3(x1)\n",
        "    return x1    \n",
        "\n",
        "# Selecting the device (CPU or GPU)\n",
        "device = torch.device(\"cuda\" if torch.cuda.is_available() else \"cpu\")\n",
        "\n",
        "# Building the whole Training Process into a class\n",
        "\n",
        "class TD3(object):\n",
        "  \n",
        "  def __init__(self, state_dim, action_dim, max_action):\n",
        "    self.actor_model = Actor(state_dim, action_dim, max_action).to(device)\n",
        "    self.critic_model = Critic(state_dim, action_dim).to(device)\n",
        "    ###\n",
        "    self.actor_target = copy.deepcopy(self.actor_model)\n",
        "    self.critic_target = copy.deepcopy(self.critic_model)\n",
        "    ###\n",
        "    self.critic_optimizer = torch.optim.Adam(self.critic_model.parameters(), lr=3e-4)\n",
        "    self.actor_optimizer = torch.optim.Adam(self.actor_model.parameters(),  lr=3e-4)\n",
        "    ###\n",
        "    self.max_action = max_action\n",
        "    \n",
        "  def select_action(self, state):\n",
        "    state = torch.Tensor(state.reshape(1, -1)).to(device)\n",
        "    return self.actor_model(state).cpu().data.numpy().flatten()\n",
        "\n",
        "  def train(self, replay_buffer : ReplayBuffer(), iterations, batch_size=100, discount=0.99, tau=0.005, policy_noise=0.2, noise_clip=0.5,\n",
        "            policy_update_freq=2):\n",
        "    \n",
        "    for it in range(iterations):\n",
        "        #if len(self.replay_buffer.storage) < 10000:\n",
        "        #  next_action = self.select_action(state)\n",
        " \n",
        "        batch_states, batch_next_states, batch_actions, batch_rewards, batch_dones = replay_buffer.sample(batch_size)\n",
        "        state = torch.Tensor(batch_states).to(device)\n",
        "        next_state = torch.Tensor(batch_next_states).to(device)\n",
        "        action = torch.Tensor(batch_actions).to(device)\n",
        "        reward = torch.Tensor(batch_rewards).to(device)\n",
        "        done = torch.Tensor(batch_dones).to(device)\n",
        "        \n",
        "        next_action = self.actor_target(next_state)\n",
        "        noise = torch.Tensor(batch_actions).data.normal_(0, policy_noise).to(device)\n",
        "        noise.clamp(-noise_clip, noise_clip)\n",
        "        next_action = (next_action + noise).clamp(-self.max_action, self.max_action)\n",
        "\n",
        "        target_Q1, target_Q2 = self.critic_target(next_state, next_action)\n",
        "        #target_Q = torch.where( done == False, torch.min(target_Q1, target_Q2), 0) \n",
        "        #target = reward + discount * target_Q\n",
        "        target_Q = torch.min(target_Q1, target_Q2)\n",
        "        target = reward + ( (1 - done) * discount * target_Q ).detach()\n",
        "\n",
        "        curr_Q1, curr_Q2 = self.critic_model(state, action)\n",
        "\n",
        "        critic_loss = F.mse_loss(curr_Q1, target_Q) + F.mse_loss(curr_Q2, target_Q)\n",
        "\n",
        "        self.critic_optimizer.zero_grad()\n",
        "        critic_loss.backward()\n",
        "        self.critic_optimizer.step()\n",
        "\n",
        "        if it % policy_update_freq == 0:\n",
        "          actor_loss = - self.critic.Q1(state, self.actor(state)).mean() # -ve cause stochastic *ascent*\n",
        "\n",
        "          self.actor_optimizer.zero_grad()\n",
        "          actor_loss.backward()\n",
        "          self.actor_optimizer.step()\n",
        "\n",
        "          for model_param, target_param in zip(self.actor_model.parameters(), self.actor_target.parameters()):\n",
        "              target_param.data.copy_( model_param.data * tau + (1 - tau) * target_param.data)\n",
        "          for model_param, target_param in zip(self.critic_model.parameters(), self.critic_target.parameters()):\n",
        "              target_param.data.copy_( model_param.data * tau + (1 - tau) * target_param.data)\n",
        "\n",
        "\n",
        "  def save(self, filename):\n",
        "    torch.save(self.critic_model.state_dict(), filename + \"_critic\")\n",
        "    torch.save(self.critic_optimizer.state_dict(), filename + \"_critic_optimizer\")\n",
        "    torch.save(self.actor_model.state_dict(), filename + \"_actor\")\n",
        "    torch.save(self.actor_optimizer.state_dict(), filename + \"_actor_optimizer\")\n",
        "\n",
        "\n",
        "  def load(self, filename):\n",
        "    self.critic_model.load_state_dict(torch.load(filename + \"_critic\"))\n",
        "    self.critic_optimizer.load_state_dict(torch.load(filename + \"_critic_optimizer\"))\n",
        "    self.critic_target = copy.deepcopy(self.critic)\n",
        "    self.actor_model.load_state_dict(torch.load(filename + \"_actor\"))\n",
        "    self.actor_optimizer.load_state_dict(torch.load(filename + \"_actor_optimizer\"))\n",
        "    self.actor_target = copy.deepcopy(self.actor)\n",
        "        \n",
        "\n",
        "def evaluate_policy(policy, eval_episodes=10):\n",
        "  avg_reward = 0.\n",
        "  for _ in range(eval_episodes):\n",
        "    obs = env.reset()\n",
        "    done = False\n",
        "    while not done:\n",
        "      action = policy.select_action(np.array(obs))\n",
        "      obs, reward, done, _ = env.step(action)\n",
        "      avg_reward += reward\n",
        "  avg_reward /= eval_episodes\n",
        "  print (\"---------------------------------------\")\n",
        "  print (\"Average Reward over the Evaluation Step: %f\" % (avg_reward))\n",
        "  print (\"---------------------------------------\")\n",
        "  return avg_reward\n",
        "\n",
        "env_name = \"AntBulletEnv-v0\"\n",
        "seed = 0\n",
        "\n",
        "file_name = \"%s_%s_%s\" % (\"TD3\", env_name, str(seed))\n",
        "print (\"---------------------------------------\")\n",
        "print (\"Settings: %s\" % (file_name))\n",
        "print (\"---------------------------------------\")\n",
        "\n",
        "eval_episodes = 10\n",
        "save_env_vid = True\n",
        "env = gym.make(env_name)\n",
        "max_episode_steps = env._max_episode_steps\n",
        "if save_env_vid:\n",
        "  env = wrappers.Monitor(env, monitor_dir, force = True)\n",
        "  env.reset()\n",
        "env.seed(seed)\n",
        "torch.manual_seed(seed)\n",
        "np.random.seed(seed)\n",
        "state_dim = env.observation_space.shape[0]\n",
        "action_dim = env.action_space.shape[0]\n",
        "max_action = float(env.action_space.high[0])\n",
        "policy = TD3(state_dim, action_dim, max_action)\n",
        "policy.load(file_name, './pytorch_models/')\n",
        "_ = evaluate_policy(policy, eval_episodes=eval_episodes)"
      ]
    }
  ],
  "metadata": {
    "colab": {
      "provenance": []
    },
    "gpuClass": "standard",
    "kernelspec": {
      "display_name": "Python 3",
      "language": "python",
      "name": "python3"
    },
    "language_info": {
      "name": "python",
      "version": "3.10.6"
    },
    "vscode": {
      "interpreter": {
        "hash": "0a5de27bd5f90e3769472b9967f0bf71d3380f940899c2a6bbd48065ad1ef5e9"
      }
    }
  },
  "nbformat": 4,
  "nbformat_minor": 0
}
